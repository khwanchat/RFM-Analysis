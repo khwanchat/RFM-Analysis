{
 "cells": [
  {
   "cell_type": "code",
   "execution_count": 6,
   "metadata": {},
   "outputs": [
    {
     "name": "stdout",
     "output_type": "stream",
     "text": [
      "             Recency  Frequency  Monetary\n",
      "Customer ID                              \n",
      "12346.0          321         12       1.0\n",
      "12348.0           71          5     361.0\n",
      "12349.0           14          4     750.0\n",
      "12350.0          305          1      40.0\n",
      "12352.0           31         10     280.0\n"
     ]
    }
   ],
   "source": [
    "# RFM Model: Data Preparation\n",
    "\n",
    "import pandas as pd\n",
    "\n",
    "# Load the dataset (assuming it's in the same folder)\n",
    "df = pd.read_csv(\"online_retail_listing.csv\", sep=';', encoding='latin1')\n",
    "\n",
    "# 1. Clean the data\n",
    "df = df.dropna(subset=['Customer ID'])\n",
    "df = df[df['Quantity'] > 0]\n",
    "df['InvoiceDate'] = pd.to_datetime(df['InvoiceDate'], dayfirst=True, errors='coerce')\n",
    "\n",
    "# 2. Create a 'TotalPrice' column\n",
    "df['Price'] = pd.to_numeric(df['Price'], errors='coerce')\n",
    "df['Quantity'] = pd.to_numeric(df['Quantity'], errors='coerce')\n",
    "df['TotalPrice'] = df['Quantity'] * df['Price']\n",
    "\n",
    "# 3. Set snapshot date (latest date in dataset + 1)\n",
    "snapshot_date = df['InvoiceDate'].max() + pd.Timedelta(days=1)\n",
    "\n",
    "# 4. Aggregate RFM metrics\n",
    "rfm = df.groupby('Customer ID').agg({\n",
    "    'InvoiceDate': lambda x: (snapshot_date - x.max()).days,\n",
    "    'Invoice': 'nunique',\n",
    "    'TotalPrice': 'sum'\n",
    "})\n",
    "\n",
    "# Rename columns\n",
    "rfm.columns = ['Recency', 'Frequency', 'Monetary']\n",
    "\n",
    "# 5. Remove negative monetary values (if any)\n",
    "rfm = rfm[rfm['Monetary'] > 0]\n",
    "\n",
    "# 6. Save RFM table\n",
    "rfm.to_csv(\"rfm_scores.csv\")\n",
    "\n",
    "# Preview\n",
    "print(rfm.head())\n"
   ]
  }
 ],
 "metadata": {
  "kernelspec": {
   "display_name": "base",
   "language": "python",
   "name": "python3"
  },
  "language_info": {
   "codemirror_mode": {
    "name": "ipython",
    "version": 3
   },
   "file_extension": ".py",
   "mimetype": "text/x-python",
   "name": "python",
   "nbconvert_exporter": "python",
   "pygments_lexer": "ipython3",
   "version": "3.12.7"
  }
 },
 "nbformat": 4,
 "nbformat_minor": 2
}
